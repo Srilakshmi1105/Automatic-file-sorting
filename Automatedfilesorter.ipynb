{
 "cells": [
  {
   "cell_type": "markdown",
   "id": "16e5c1b9-144b-449f-b7c9-3e566a51ffd2",
   "metadata": {},
   "source": [
    "## Automatic File Sorter"
   ]
  },
  {
   "cell_type": "code",
   "execution_count": 4,
   "id": "80df9d2c-9943-4be2-afa8-6258028354b7",
   "metadata": {},
   "outputs": [],
   "source": [
    "import os, shutil"
   ]
  },
  {
   "cell_type": "code",
   "execution_count": 22,
   "id": "8cb6afcf-d720-4c1e-929b-00d6ee286a0a",
   "metadata": {},
   "outputs": [],
   "source": [
    "Path = r\"C:/Users/sweet/Desktop/File sorting/\""
   ]
  },
  {
   "cell_type": "code",
   "execution_count": 24,
   "id": "88ca83de-b758-448a-9d4b-87e5e128fad3",
   "metadata": {},
   "outputs": [
    {
     "data": {
      "text/plain": [
       "['BG12.jpg',\n",
       " 'Charitable Contributions and Donations  20240912.docx',\n",
       " 'Charitable Contributions and Donations .docx',\n",
       " 'download (1).jpg',\n",
       " 'download.jpg',\n",
       " 'Edwards.docx',\n",
       " 'images (1).jpg',\n",
       " 'Product Donation Program SOP 20240911 RR.docx',\n",
       " 'Product donation program.docx',\n",
       " 'SDP program BD.pdf',\n",
       " 'Windrunner.pdf']"
      ]
     },
     "execution_count": 24,
     "metadata": {},
     "output_type": "execute_result"
    }
   ],
   "source": [
    "os.listdir(Path)"
   ]
  },
  {
   "cell_type": "code",
   "execution_count": 30,
   "id": "14b85f52-1238-4fc7-a8b3-d84db23e4126",
   "metadata": {},
   "outputs": [
    {
     "name": "stdout",
     "output_type": "stream",
     "text": [
      "Creating folder: C:/Users/sweet/Desktop/File sorting/jpg_files\n",
      "Creating folder: C:/Users/sweet/Desktop/File sorting/pdf_files\n",
      "Creating folder: C:/Users/sweet/Desktop/File sorting/docx_files\n"
     ]
    }
   ],
   "source": [
    "folder_names = ['jpg_files', 'pdf_files','docx_files']\n",
    "for loop in range(0,3):\n",
    "    folder_path = os.path.join(Path, folder_names[loop])\n",
    "    if not os.path.exists(folder_path):\n",
    "        print(f\"Creating folder: {folder_path}\")\n",
    "        os.makedirs(folder_path)\n"
   ]
  },
  {
   "cell_type": "code",
   "execution_count": 44,
   "id": "09fa6ff4-6605-4f24-8862-8c6985376c7c",
   "metadata": {},
   "outputs": [],
   "source": [
    "file_names = os.listdir(Path)\n",
    "for file in file_names:\n",
    "    if file.endswith(\".jpg\") and not os.path.exists(os.path.join(Path, 'jpg_files', file)):\n",
    "        shutil.move(os.path.join(Path, file), os.path.join(Path, 'jpg_files', file))\n",
    "    elif file.endswith(\"docx\") and not os.path.exists(os.path.join(Path, 'docx_files',file)):\n",
    "        shutil.move(os.path.join(Path,file),os.path.join(Path, 'docx_files', file))\n",
    "    elif file.endswith(\".pdf\") and not os.path.exists(os.path.join(Path, 'pdf_files', file)):\n",
    "        shutil.move(os.path.join(Path, file), os.path.join(Path, 'pdf_files', file))"
   ]
  },
  {
   "cell_type": "code",
   "execution_count": null,
   "id": "724858bc-b6e3-4433-b293-4666a71c4309",
   "metadata": {},
   "outputs": [],
   "source": []
  }
 ],
 "metadata": {
  "kernelspec": {
   "display_name": "Python 3 (ipykernel)",
   "language": "python",
   "name": "python3"
  },
  "language_info": {
   "codemirror_mode": {
    "name": "ipython",
    "version": 3
   },
   "file_extension": ".py",
   "mimetype": "text/x-python",
   "name": "python",
   "nbconvert_exporter": "python",
   "pygments_lexer": "ipython3",
   "version": "3.12.4"
  }
 },
 "nbformat": 4,
 "nbformat_minor": 5
}
